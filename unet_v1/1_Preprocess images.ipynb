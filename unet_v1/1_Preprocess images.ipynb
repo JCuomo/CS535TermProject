{
 "cells": [
  {
   "cell_type": "code",
   "execution_count": 1,
   "metadata": {},
   "outputs": [],
   "source": [
    "from PIL import Image\n",
    "import os\n",
    "\n",
    "#the input dir has the original images\n",
    "test_dir1  = 'data/hands/test/image/'\n",
    "train_dir1 = 'data/hands/train/image/'\n",
    "label_dir1 = 'data/hands/train/manual_label/'\n",
    "\n",
    "#the output dir is the one that will feed the NN\n",
    "test_dir2  = 'data/hands/test/image/'\n",
    "train_dir2 = 'data/hands/train/image/'\n",
    "label_dir2 = 'data/hands/train/label/'"
   ]
  },
  {
   "cell_type": "code",
   "execution_count": 2,
   "metadata": {},
   "outputs": [],
   "source": [
    "def black_background_thumbnail(path_to_image, background=\"black\", thumbnail_size=(256,256)):\n",
    "    '''modifies the image keeping the aspect ratio and filling the background with a solid color'''\n",
    "    background = Image.new('RGBA', thumbnail_size, background)    \n",
    "    source_image = Image.open(path_to_image).convert(\"RGBA\")\n",
    "    source_image.thumbnail(thumbnail_size)\n",
    "    (w, h) = source_image.size\n",
    "    background.paste(source_image, ((int((thumbnail_size[0] - w) / 2), int((thumbnail_size[1] - h) / 2))))\n",
    "    return background\n",
    "\n",
    "def getSizeDir(path):\n",
    "    return len([name for name in os.listdir(path) if os.path.isfile(path+name)])\n",
    "\n",
    "def resize(i_path, o_path, i_fmt='png', o_fmt='png', size=(256,256), background=\"black\"):\n",
    "    '''aplplies black_background_thumbnail to all images in the directory'''\n",
    "    #for i in range (0,getSizeDir(i_path)):\n",
    "    for file in os.listdir(i_path):\n",
    "        if not file.endswith(i_fmt): continue\n",
    "        #infile  = i_path + str(i) + '.' + i_fmt\n",
    "        infile  = i_path + file\n",
    "        outfile = o_path + file\n",
    "\n",
    "        img = black_background_thumbnail(infile, background)\n",
    "        img.save(outfile)\n",
    "\n",
    "def convertBnW(i_path, o_path, i_fmt='png', o_fmt='png'):\n",
    "    '''converts all images in the directory to black and white'''\n",
    "    #for i in range (0,getSizeDir(i_path)):    \n",
    "    for file in os.listdir(i_path):\n",
    "        if not file.endswith(i_fmt): continue\n",
    "        infile  = i_path + file        \n",
    "        outfile = o_path + file\n",
    "\n",
    "        image_file = Image.open(infile) # open colour image\n",
    "        #image_file = image_file.convert('1', dither=Image.NONE) # convert image to black and white\n",
    "        image_file = image_file.convert('L')\n",
    "        image_file = image_file.point(lambda x: 0 if x<100 else 255, '1')\n",
    "        image_file.save(outfile)"
   ]
  },
  {
   "cell_type": "code",
   "execution_count": 3,
   "metadata": {},
   "outputs": [],
   "source": [
    "#change all labels to black and white\n",
    "convertBnW(label_dir1, label_dir2)\n",
    "#resize all labels\n",
    "resize(label_dir2, label_dir2, background=\"white\")"
   ]
  },
  {
   "cell_type": "code",
   "execution_count": 4,
   "metadata": {},
   "outputs": [],
   "source": [
    "#resize all training images\n",
    "resize(train_dir1, train_dir2)"
   ]
  },
  {
   "cell_type": "code",
   "execution_count": 5,
   "metadata": {},
   "outputs": [],
   "source": [
    "#resize all testing images\n",
    "resize(test_dir1, test_dir2)"
   ]
  },
  {
   "cell_type": "code",
   "execution_count": null,
   "metadata": {},
   "outputs": [],
   "source": []
  }
 ],
 "metadata": {
  "kernelspec": {
   "display_name": "Python 3",
   "language": "python",
   "name": "python3"
  },
  "language_info": {
   "codemirror_mode": {
    "name": "ipython",
    "version": 3
   },
   "file_extension": ".py",
   "mimetype": "text/x-python",
   "name": "python",
   "nbconvert_exporter": "python",
   "pygments_lexer": "ipython3",
   "version": "3.7.2"
  }
 },
 "nbformat": 4,
 "nbformat_minor": 2
}
