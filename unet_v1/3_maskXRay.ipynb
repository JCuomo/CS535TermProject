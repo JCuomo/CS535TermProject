{
 "cells": [
  {
   "cell_type": "markdown",
   "metadata": {},
   "source": [
    "Once the prediction of the mask is done by the U-Net, that prediction needs to be process to remove all unwanted areas. Once that's done, the resulting mask should be apply to the xRay in order to keep only the hand and feed the prediction NN."
   ]
  },
  {
   "cell_type": "code",
   "execution_count": 34,
   "metadata": {},
   "outputs": [],
   "source": [
    "import matplotlib.pyplot as plt \n",
    "import numpy as np\n",
    "import cv2\n",
    "import skimage.io as io\n",
    "import os"
   ]
  },
  {
   "cell_type": "code",
   "execution_count": 35,
   "metadata": {},
   "outputs": [],
   "source": [
    "predict_dir = 'data/hands/test/predict/' #output of the U-Net on the testing xRay\n",
    "images_dir = 'data/hands/test/image/'    #testing xRay\n",
    "output_dir = 'data/hands/test/output/'   #xRay masked (input of the next NN)\n",
    "i_fmt = 'png'\n",
    "o_fmt = 'png'\n",
    "size = (256,256)"
   ]
  },
  {
   "cell_type": "code",
   "execution_count": 36,
   "metadata": {},
   "outputs": [],
   "source": [
    "for file in os.listdir(images_dir):\n",
    "    if not file.endswith(i_fmt): continue\n",
    "    \n",
    "    xRay_path  = images_dir  + file\n",
    "    outfile    = output_dir  + file\n",
    "    prediction = predict_dir + file\n",
    "    \n",
    "    im1 = cv2.imread(prediction) # read the predicted mask\n",
    "    im1[-10:,:,:] = 255 #paint a white stripe in the bottom to be sure the fram doesn't touch the hand\n",
    "    im2 = cv2.cvtColor(im1,cv2.COLOR_BGR2GRAY) #gray scale image\n",
    "    thresh, im_bw = cv2.threshold(im2, 127, 255, cv2.THRESH_BINARY) #im_bw: binary image\n",
    "    #get the contours\n",
    "    contours, hierarchy = cv2.findContours(im_bw,cv2.RETR_TREE, cv2.CHAIN_APPROX_NONE)\n",
    "    \n",
    "    #cv2.drawContours(im2, contours,-1, (100,255,0),3)\n",
    "    #plt.imshow(im2) \n",
    "    #create a black picture to draw the contour\n",
    "    im3 = np.ones([size[0], size[1], 3], dtype=np.uint8)*255\n",
    "    #get the contour of the hand and discard the rest\n",
    "    areaArray=[]\n",
    "    frame_area = size[0] * size[1]\n",
    "    for i, contour in enumerate(contours):\n",
    "        area = cv2.contourArea(contour)\n",
    "        if area <= frame_area*0.01 or area > frame_area*0.9:  #discard the frame and small areas\n",
    "            continue\n",
    "        areaArray.append(contour)\n",
    "    #there should be only one contour selected, otherwise start debugging...\n",
    "    if len(areaArray)>1:\n",
    "        print(\"more than one hspae detected as hand\")\n",
    "    handContour = areaArray[0]\n",
    "    #draw the contour in the black picture\n",
    "    cv2.drawContours(im3, handContour, -1, (0,0,0), 1)\n",
    "    \n",
    "    # Mask used to flood filling.\n",
    "    # Notice the size needs to be 2 pixels than the image.\n",
    "    h, w = im3.shape[:2]\n",
    "    mask = np.zeros((h+2, w+2), np.uint8)\n",
    "    # Floodfill from point (0, 0)\n",
    "    cv2.floodFill(im3, mask, (0,0), 0);\n",
    "    #plt.imshow(im3)\n",
    "    #if I want to save the mask: io.imsave(\"something.png\",im3)\n",
    "\n",
    "    xray = cv2.imread(xRay_path) #raw RGB image\n",
    "    idx=(im3==0) #get the indices of the mask that are 0\n",
    "\n",
    "    xray[idx]=0 #change all those pixels (which are not part of the hand) to 0\n",
    "    io.imsave(output,xray)"
   ]
  },
  {
   "cell_type": "code",
   "execution_count": null,
   "metadata": {},
   "outputs": [],
   "source": []
  }
 ],
 "metadata": {
  "kernelspec": {
   "display_name": "Python 3",
   "language": "python",
   "name": "python3"
  },
  "language_info": {
   "codemirror_mode": {
    "name": "ipython",
    "version": 3
   },
   "file_extension": ".py",
   "mimetype": "text/x-python",
   "name": "python",
   "nbconvert_exporter": "python",
   "pygments_lexer": "ipython3",
   "version": "3.7.2"
  }
 },
 "nbformat": 4,
 "nbformat_minor": 2
}
